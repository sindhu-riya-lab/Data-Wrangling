{
  "nbformat": 4,
  "nbformat_minor": 0,
  "metadata": {
    "colab": {
      "provenance": [],
      "authorship_tag": "ABX9TyNRHPzGsdN1uPPWHBnmbyOL",
      "include_colab_link": true
    },
    "kernelspec": {
      "name": "python3",
      "display_name": "Python 3"
    },
    "language_info": {
      "name": "python"
    }
  },
  "cells": [
    {
      "cell_type": "markdown",
      "metadata": {
        "id": "view-in-github",
        "colab_type": "text"
      },
      "source": [
        "<a href=\"https://colab.research.google.com/github/sindhu-riya-lab/Data-Wrangling/blob/main/sindhu.ipynb\" target=\"_parent\"><img src=\"https://colab.research.google.com/assets/colab-badge.svg\" alt=\"Open In Colab\"/></a>"
      ]
    },
    {
      "cell_type": "code",
      "execution_count": null,
      "metadata": {
        "colab": {
          "base_uri": "https://localhost:8080/"
        },
        "id": "Y-_zT437MOBD",
        "outputId": "c968d32b-8aa9-47a5-d624-b1493cb6cd2d"
      },
      "outputs": [
        {
          "output_type": "stream",
          "name": "stdout",
          "text": [
            "python program\n"
          ]
        }
      ],
      "source": [
        "print(\"python program\")"
      ]
    },
    {
      "cell_type": "code",
      "source": [
        "print(\"riya\")"
      ],
      "metadata": {
        "colab": {
          "base_uri": "https://localhost:8080/"
        },
        "id": "UkrbzrG7MzQT",
        "outputId": "4b10ef34-9051-4c65-d7c7-4a869da844b6"
      },
      "execution_count": null,
      "outputs": [
        {
          "output_type": "stream",
          "name": "stdout",
          "text": [
            "riya\n"
          ]
        }
      ]
    },
    {
      "cell_type": "code",
      "source": [
        "print(\"srinivas\")"
      ],
      "metadata": {
        "colab": {
          "base_uri": "https://localhost:8080/"
        },
        "id": "WdicbPnGNAc6",
        "outputId": "3f877c63-e377-49c3-b877-36c38dbcf464"
      },
      "execution_count": null,
      "outputs": [
        {
          "output_type": "stream",
          "name": "stdout",
          "text": [
            "srinivas\n"
          ]
        }
      ]
    },
    {
      "cell_type": "code",
      "source": [
        "a=10\n",
        "b=20\n",
        "c=a+b\n",
        "print(c)"
      ],
      "metadata": {
        "colab": {
          "base_uri": "https://localhost:8080/"
        },
        "id": "_L14fdrvND-k",
        "outputId": "8c68497f-4d71-44ea-a441-5dfbe0a7b45a"
      },
      "execution_count": null,
      "outputs": [
        {
          "output_type": "stream",
          "name": "stdout",
          "text": [
            "30\n"
          ]
        }
      ]
    },
    {
      "cell_type": "code",
      "source": [
        "import pandas as pd\n"
      ],
      "metadata": {
        "id": "6KKwncx0NVSX"
      },
      "execution_count": null,
      "outputs": []
    },
    {
      "cell_type": "code",
      "source": [
        "df=pd.read_csv('/content/crime_dataset_india.csv')\n",
        "df.head()"
      ],
      "metadata": {
        "colab": {
          "base_uri": "https://localhost:8080/",
          "height": 469
        },
        "id": "O8QYRWZLN55V",
        "outputId": "9c02997d-fe6c-4a17-b0a9-5d3e79d05b32"
      },
      "execution_count": null,
      "outputs": [
        {
          "output_type": "stream",
          "name": "stderr",
          "text": [
            "/usr/local/lib/python3.10/dist-packages/google/colab/_dataframe_summarizer.py:88: UserWarning: Parsing dates in %d-%m-%Y %H:%M format when dayfirst=False (the default) was specified. Pass `dayfirst=True` or specify a format to silence this warning.\n",
            "  cast_date_col = pd.to_datetime(column, errors=\"coerce\")\n"
          ]
        },
        {
          "output_type": "execute_result",
          "data": {
            "text/plain": [
              "   Report Number     Date Reported Date of Occurrence Time of Occurrence  \\\n",
              "0              1  02-01-2020 00:00   01-01-2020 00:00   01-01-2020 01:11   \n",
              "1              2  01-01-2020 19:00   01-01-2020 01:00   01-01-2020 06:26   \n",
              "2              3  02-01-2020 05:00   01-01-2020 02:00   01-01-2020 14:30   \n",
              "3              4  01-01-2020 05:00   01-01-2020 03:00   01-01-2020 14:46   \n",
              "4              5  01-01-2020 21:00   01-01-2020 04:00   01-01-2020 16:51   \n",
              "\n",
              "        City  Crime Code Crime Description  Victim Age Victim Gender  \\\n",
              "0  Ahmedabad         576    IDENTITY THEFT          16             M   \n",
              "1    Chennai         128          HOMICIDE          37             M   \n",
              "2   Ludhiana         271        KIDNAPPING          48             F   \n",
              "3       Pune         170          BURGLARY          49             F   \n",
              "4       Pune         421         VANDALISM          30             F   \n",
              "\n",
              "    Weapon Used   Crime Domain  Police Deployed Case Closed  Date Case Closed  \n",
              "0  Blunt Object  Violent Crime               13          No               NaN  \n",
              "1        Poison    Other Crime                9          No               NaN  \n",
              "2  Blunt Object    Other Crime               15          No               NaN  \n",
              "3       Firearm    Other Crime                1         Yes  29-04-2020 05:00  \n",
              "4         Other    Other Crime               18         Yes  08-01-2020 21:00  "
            ],
            "text/html": [
              "\n",
              "  <div id=\"df-d033f056-1815-4ed8-843f-94cb55cd4590\" class=\"colab-df-container\">\n",
              "    <div>\n",
              "<style scoped>\n",
              "    .dataframe tbody tr th:only-of-type {\n",
              "        vertical-align: middle;\n",
              "    }\n",
              "\n",
              "    .dataframe tbody tr th {\n",
              "        vertical-align: top;\n",
              "    }\n",
              "\n",
              "    .dataframe thead th {\n",
              "        text-align: right;\n",
              "    }\n",
              "</style>\n",
              "<table border=\"1\" class=\"dataframe\">\n",
              "  <thead>\n",
              "    <tr style=\"text-align: right;\">\n",
              "      <th></th>\n",
              "      <th>Report Number</th>\n",
              "      <th>Date Reported</th>\n",
              "      <th>Date of Occurrence</th>\n",
              "      <th>Time of Occurrence</th>\n",
              "      <th>City</th>\n",
              "      <th>Crime Code</th>\n",
              "      <th>Crime Description</th>\n",
              "      <th>Victim Age</th>\n",
              "      <th>Victim Gender</th>\n",
              "      <th>Weapon Used</th>\n",
              "      <th>Crime Domain</th>\n",
              "      <th>Police Deployed</th>\n",
              "      <th>Case Closed</th>\n",
              "      <th>Date Case Closed</th>\n",
              "    </tr>\n",
              "  </thead>\n",
              "  <tbody>\n",
              "    <tr>\n",
              "      <th>0</th>\n",
              "      <td>1</td>\n",
              "      <td>02-01-2020 00:00</td>\n",
              "      <td>01-01-2020 00:00</td>\n",
              "      <td>01-01-2020 01:11</td>\n",
              "      <td>Ahmedabad</td>\n",
              "      <td>576</td>\n",
              "      <td>IDENTITY THEFT</td>\n",
              "      <td>16</td>\n",
              "      <td>M</td>\n",
              "      <td>Blunt Object</td>\n",
              "      <td>Violent Crime</td>\n",
              "      <td>13</td>\n",
              "      <td>No</td>\n",
              "      <td>NaN</td>\n",
              "    </tr>\n",
              "    <tr>\n",
              "      <th>1</th>\n",
              "      <td>2</td>\n",
              "      <td>01-01-2020 19:00</td>\n",
              "      <td>01-01-2020 01:00</td>\n",
              "      <td>01-01-2020 06:26</td>\n",
              "      <td>Chennai</td>\n",
              "      <td>128</td>\n",
              "      <td>HOMICIDE</td>\n",
              "      <td>37</td>\n",
              "      <td>M</td>\n",
              "      <td>Poison</td>\n",
              "      <td>Other Crime</td>\n",
              "      <td>9</td>\n",
              "      <td>No</td>\n",
              "      <td>NaN</td>\n",
              "    </tr>\n",
              "    <tr>\n",
              "      <th>2</th>\n",
              "      <td>3</td>\n",
              "      <td>02-01-2020 05:00</td>\n",
              "      <td>01-01-2020 02:00</td>\n",
              "      <td>01-01-2020 14:30</td>\n",
              "      <td>Ludhiana</td>\n",
              "      <td>271</td>\n",
              "      <td>KIDNAPPING</td>\n",
              "      <td>48</td>\n",
              "      <td>F</td>\n",
              "      <td>Blunt Object</td>\n",
              "      <td>Other Crime</td>\n",
              "      <td>15</td>\n",
              "      <td>No</td>\n",
              "      <td>NaN</td>\n",
              "    </tr>\n",
              "    <tr>\n",
              "      <th>3</th>\n",
              "      <td>4</td>\n",
              "      <td>01-01-2020 05:00</td>\n",
              "      <td>01-01-2020 03:00</td>\n",
              "      <td>01-01-2020 14:46</td>\n",
              "      <td>Pune</td>\n",
              "      <td>170</td>\n",
              "      <td>BURGLARY</td>\n",
              "      <td>49</td>\n",
              "      <td>F</td>\n",
              "      <td>Firearm</td>\n",
              "      <td>Other Crime</td>\n",
              "      <td>1</td>\n",
              "      <td>Yes</td>\n",
              "      <td>29-04-2020 05:00</td>\n",
              "    </tr>\n",
              "    <tr>\n",
              "      <th>4</th>\n",
              "      <td>5</td>\n",
              "      <td>01-01-2020 21:00</td>\n",
              "      <td>01-01-2020 04:00</td>\n",
              "      <td>01-01-2020 16:51</td>\n",
              "      <td>Pune</td>\n",
              "      <td>421</td>\n",
              "      <td>VANDALISM</td>\n",
              "      <td>30</td>\n",
              "      <td>F</td>\n",
              "      <td>Other</td>\n",
              "      <td>Other Crime</td>\n",
              "      <td>18</td>\n",
              "      <td>Yes</td>\n",
              "      <td>08-01-2020 21:00</td>\n",
              "    </tr>\n",
              "  </tbody>\n",
              "</table>\n",
              "</div>\n",
              "    <div class=\"colab-df-buttons\">\n",
              "\n",
              "  <div class=\"colab-df-container\">\n",
              "    <button class=\"colab-df-convert\" onclick=\"convertToInteractive('df-d033f056-1815-4ed8-843f-94cb55cd4590')\"\n",
              "            title=\"Convert this dataframe to an interactive table.\"\n",
              "            style=\"display:none;\">\n",
              "\n",
              "  <svg xmlns=\"http://www.w3.org/2000/svg\" height=\"24px\" viewBox=\"0 -960 960 960\">\n",
              "    <path d=\"M120-120v-720h720v720H120Zm60-500h600v-160H180v160Zm220 220h160v-160H400v160Zm0 220h160v-160H400v160ZM180-400h160v-160H180v160Zm440 0h160v-160H620v160ZM180-180h160v-160H180v160Zm440 0h160v-160H620v160Z\"/>\n",
              "  </svg>\n",
              "    </button>\n",
              "\n",
              "  <style>\n",
              "    .colab-df-container {\n",
              "      display:flex;\n",
              "      gap: 12px;\n",
              "    }\n",
              "\n",
              "    .colab-df-convert {\n",
              "      background-color: #E8F0FE;\n",
              "      border: none;\n",
              "      border-radius: 50%;\n",
              "      cursor: pointer;\n",
              "      display: none;\n",
              "      fill: #1967D2;\n",
              "      height: 32px;\n",
              "      padding: 0 0 0 0;\n",
              "      width: 32px;\n",
              "    }\n",
              "\n",
              "    .colab-df-convert:hover {\n",
              "      background-color: #E2EBFA;\n",
              "      box-shadow: 0px 1px 2px rgba(60, 64, 67, 0.3), 0px 1px 3px 1px rgba(60, 64, 67, 0.15);\n",
              "      fill: #174EA6;\n",
              "    }\n",
              "\n",
              "    .colab-df-buttons div {\n",
              "      margin-bottom: 4px;\n",
              "    }\n",
              "\n",
              "    [theme=dark] .colab-df-convert {\n",
              "      background-color: #3B4455;\n",
              "      fill: #D2E3FC;\n",
              "    }\n",
              "\n",
              "    [theme=dark] .colab-df-convert:hover {\n",
              "      background-color: #434B5C;\n",
              "      box-shadow: 0px 1px 3px 1px rgba(0, 0, 0, 0.15);\n",
              "      filter: drop-shadow(0px 1px 2px rgba(0, 0, 0, 0.3));\n",
              "      fill: #FFFFFF;\n",
              "    }\n",
              "  </style>\n",
              "\n",
              "    <script>\n",
              "      const buttonEl =\n",
              "        document.querySelector('#df-d033f056-1815-4ed8-843f-94cb55cd4590 button.colab-df-convert');\n",
              "      buttonEl.style.display =\n",
              "        google.colab.kernel.accessAllowed ? 'block' : 'none';\n",
              "\n",
              "      async function convertToInteractive(key) {\n",
              "        const element = document.querySelector('#df-d033f056-1815-4ed8-843f-94cb55cd4590');\n",
              "        const dataTable =\n",
              "          await google.colab.kernel.invokeFunction('convertToInteractive',\n",
              "                                                    [key], {});\n",
              "        if (!dataTable) return;\n",
              "\n",
              "        const docLinkHtml = 'Like what you see? Visit the ' +\n",
              "          '<a target=\"_blank\" href=https://colab.research.google.com/notebooks/data_table.ipynb>data table notebook</a>'\n",
              "          + ' to learn more about interactive tables.';\n",
              "        element.innerHTML = '';\n",
              "        dataTable['output_type'] = 'display_data';\n",
              "        await google.colab.output.renderOutput(dataTable, element);\n",
              "        const docLink = document.createElement('div');\n",
              "        docLink.innerHTML = docLinkHtml;\n",
              "        element.appendChild(docLink);\n",
              "      }\n",
              "    </script>\n",
              "  </div>\n",
              "\n",
              "\n",
              "<div id=\"df-4629e4d3-1fc3-49e2-99f2-b362f478bc1e\">\n",
              "  <button class=\"colab-df-quickchart\" onclick=\"quickchart('df-4629e4d3-1fc3-49e2-99f2-b362f478bc1e')\"\n",
              "            title=\"Suggest charts\"\n",
              "            style=\"display:none;\">\n",
              "\n",
              "<svg xmlns=\"http://www.w3.org/2000/svg\" height=\"24px\"viewBox=\"0 0 24 24\"\n",
              "     width=\"24px\">\n",
              "    <g>\n",
              "        <path d=\"M19 3H5c-1.1 0-2 .9-2 2v14c0 1.1.9 2 2 2h14c1.1 0 2-.9 2-2V5c0-1.1-.9-2-2-2zM9 17H7v-7h2v7zm4 0h-2V7h2v10zm4 0h-2v-4h2v4z\"/>\n",
              "    </g>\n",
              "</svg>\n",
              "  </button>\n",
              "\n",
              "<style>\n",
              "  .colab-df-quickchart {\n",
              "      --bg-color: #E8F0FE;\n",
              "      --fill-color: #1967D2;\n",
              "      --hover-bg-color: #E2EBFA;\n",
              "      --hover-fill-color: #174EA6;\n",
              "      --disabled-fill-color: #AAA;\n",
              "      --disabled-bg-color: #DDD;\n",
              "  }\n",
              "\n",
              "  [theme=dark] .colab-df-quickchart {\n",
              "      --bg-color: #3B4455;\n",
              "      --fill-color: #D2E3FC;\n",
              "      --hover-bg-color: #434B5C;\n",
              "      --hover-fill-color: #FFFFFF;\n",
              "      --disabled-bg-color: #3B4455;\n",
              "      --disabled-fill-color: #666;\n",
              "  }\n",
              "\n",
              "  .colab-df-quickchart {\n",
              "    background-color: var(--bg-color);\n",
              "    border: none;\n",
              "    border-radius: 50%;\n",
              "    cursor: pointer;\n",
              "    display: none;\n",
              "    fill: var(--fill-color);\n",
              "    height: 32px;\n",
              "    padding: 0;\n",
              "    width: 32px;\n",
              "  }\n",
              "\n",
              "  .colab-df-quickchart:hover {\n",
              "    background-color: var(--hover-bg-color);\n",
              "    box-shadow: 0 1px 2px rgba(60, 64, 67, 0.3), 0 1px 3px 1px rgba(60, 64, 67, 0.15);\n",
              "    fill: var(--button-hover-fill-color);\n",
              "  }\n",
              "\n",
              "  .colab-df-quickchart-complete:disabled,\n",
              "  .colab-df-quickchart-complete:disabled:hover {\n",
              "    background-color: var(--disabled-bg-color);\n",
              "    fill: var(--disabled-fill-color);\n",
              "    box-shadow: none;\n",
              "  }\n",
              "\n",
              "  .colab-df-spinner {\n",
              "    border: 2px solid var(--fill-color);\n",
              "    border-color: transparent;\n",
              "    border-bottom-color: var(--fill-color);\n",
              "    animation:\n",
              "      spin 1s steps(1) infinite;\n",
              "  }\n",
              "\n",
              "  @keyframes spin {\n",
              "    0% {\n",
              "      border-color: transparent;\n",
              "      border-bottom-color: var(--fill-color);\n",
              "      border-left-color: var(--fill-color);\n",
              "    }\n",
              "    20% {\n",
              "      border-color: transparent;\n",
              "      border-left-color: var(--fill-color);\n",
              "      border-top-color: var(--fill-color);\n",
              "    }\n",
              "    30% {\n",
              "      border-color: transparent;\n",
              "      border-left-color: var(--fill-color);\n",
              "      border-top-color: var(--fill-color);\n",
              "      border-right-color: var(--fill-color);\n",
              "    }\n",
              "    40% {\n",
              "      border-color: transparent;\n",
              "      border-right-color: var(--fill-color);\n",
              "      border-top-color: var(--fill-color);\n",
              "    }\n",
              "    60% {\n",
              "      border-color: transparent;\n",
              "      border-right-color: var(--fill-color);\n",
              "    }\n",
              "    80% {\n",
              "      border-color: transparent;\n",
              "      border-right-color: var(--fill-color);\n",
              "      border-bottom-color: var(--fill-color);\n",
              "    }\n",
              "    90% {\n",
              "      border-color: transparent;\n",
              "      border-bottom-color: var(--fill-color);\n",
              "    }\n",
              "  }\n",
              "</style>\n",
              "\n",
              "  <script>\n",
              "    async function quickchart(key) {\n",
              "      const quickchartButtonEl =\n",
              "        document.querySelector('#' + key + ' button');\n",
              "      quickchartButtonEl.disabled = true;  // To prevent multiple clicks.\n",
              "      quickchartButtonEl.classList.add('colab-df-spinner');\n",
              "      try {\n",
              "        const charts = await google.colab.kernel.invokeFunction(\n",
              "            'suggestCharts', [key], {});\n",
              "      } catch (error) {\n",
              "        console.error('Error during call to suggestCharts:', error);\n",
              "      }\n",
              "      quickchartButtonEl.classList.remove('colab-df-spinner');\n",
              "      quickchartButtonEl.classList.add('colab-df-quickchart-complete');\n",
              "    }\n",
              "    (() => {\n",
              "      let quickchartButtonEl =\n",
              "        document.querySelector('#df-4629e4d3-1fc3-49e2-99f2-b362f478bc1e button');\n",
              "      quickchartButtonEl.style.display =\n",
              "        google.colab.kernel.accessAllowed ? 'block' : 'none';\n",
              "    })();\n",
              "  </script>\n",
              "</div>\n",
              "\n",
              "    </div>\n",
              "  </div>\n"
            ],
            "application/vnd.google.colaboratory.intrinsic+json": {
              "type": "dataframe",
              "variable_name": "df",
              "summary": "{\n  \"name\": \"df\",\n  \"rows\": 40160,\n  \"fields\": [\n    {\n      \"column\": \"Report Number\",\n      \"properties\": {\n        \"dtype\": \"number\",\n        \"std\": 11593,\n        \"min\": 1,\n        \"max\": 40160,\n        \"num_unique_values\": 40160,\n        \"samples\": [\n          11032,\n          10507,\n          36399\n        ],\n        \"semantic_type\": \"\",\n        \"description\": \"\"\n      }\n    },\n    {\n      \"column\": \"Date Reported\",\n      \"properties\": {\n        \"dtype\": \"string\",\n        \"num_unique_values\": 25546,\n        \"samples\": [\n          \"09-03-2021 12:00\",\n          \"06-08-2023 04:00\",\n          \"27-01-2022 08:00\"\n        ],\n        \"semantic_type\": \"\",\n        \"description\": \"\"\n      }\n    },\n    {\n      \"column\": \"Date of Occurrence\",\n      \"properties\": {\n        \"dtype\": \"object\",\n        \"num_unique_values\": 40160,\n        \"samples\": [\n          \"04-04-2021 15:00\",\n          \"03-13-2021 18:00\",\n          \"02-25-2024 14:00\"\n        ],\n        \"semantic_type\": \"\",\n        \"description\": \"\"\n      }\n    },\n    {\n      \"column\": \"Time of Occurrence\",\n      \"properties\": {\n        \"dtype\": \"string\",\n        \"num_unique_values\": 39886,\n        \"samples\": [\n          \"01-04-2021 19:34\",\n          \"02-06-2020 20:29\",\n          \"22-05-2020 11:56\"\n        ],\n        \"semantic_type\": \"\",\n        \"description\": \"\"\n      }\n    },\n    {\n      \"column\": \"City\",\n      \"properties\": {\n        \"dtype\": \"category\",\n        \"num_unique_values\": 29,\n        \"samples\": [\n          \"Srinagar\",\n          \"Kanpur\",\n          \"Jaipur\"\n        ],\n        \"semantic_type\": \"\",\n        \"description\": \"\"\n      }\n    },\n    {\n      \"column\": \"Crime Code\",\n      \"properties\": {\n        \"dtype\": \"number\",\n        \"std\": 144,\n        \"min\": 100,\n        \"max\": 599,\n        \"num_unique_values\": 500,\n        \"samples\": [\n          382,\n          197,\n          149\n        ],\n        \"semantic_type\": \"\",\n        \"description\": \"\"\n      }\n    },\n    {\n      \"column\": \"Crime Description\",\n      \"properties\": {\n        \"dtype\": \"category\",\n        \"num_unique_values\": 21,\n        \"samples\": [\n          \"IDENTITY THEFT\",\n          \"ILLEGAL POSSESSION\",\n          \"TRAFFIC VIOLATION\"\n        ],\n        \"semantic_type\": \"\",\n        \"description\": \"\"\n      }\n    },\n    {\n      \"column\": \"Victim Age\",\n      \"properties\": {\n        \"dtype\": \"number\",\n        \"std\": 20,\n        \"min\": 10,\n        \"max\": 79,\n        \"num_unique_values\": 70,\n        \"samples\": [\n          33,\n          16,\n          10\n        ],\n        \"semantic_type\": \"\",\n        \"description\": \"\"\n      }\n    },\n    {\n      \"column\": \"Victim Gender\",\n      \"properties\": {\n        \"dtype\": \"category\",\n        \"num_unique_values\": 3,\n        \"samples\": [\n          \"M\",\n          \"F\",\n          \"X\"\n        ],\n        \"semantic_type\": \"\",\n        \"description\": \"\"\n      }\n    },\n    {\n      \"column\": \"Weapon Used\",\n      \"properties\": {\n        \"dtype\": \"category\",\n        \"num_unique_values\": 6,\n        \"samples\": [\n          \"Blunt Object\",\n          \"Poison\",\n          \"Explosives\"\n        ],\n        \"semantic_type\": \"\",\n        \"description\": \"\"\n      }\n    },\n    {\n      \"column\": \"Crime Domain\",\n      \"properties\": {\n        \"dtype\": \"category\",\n        \"num_unique_values\": 4,\n        \"samples\": [\n          \"Other Crime\",\n          \"Traffic Fatality\",\n          \"Violent Crime\"\n        ],\n        \"semantic_type\": \"\",\n        \"description\": \"\"\n      }\n    },\n    {\n      \"column\": \"Police Deployed\",\n      \"properties\": {\n        \"dtype\": \"number\",\n        \"std\": 5,\n        \"min\": 1,\n        \"max\": 19,\n        \"num_unique_values\": 19,\n        \"samples\": [\n          13,\n          8,\n          6\n        ],\n        \"semantic_type\": \"\",\n        \"description\": \"\"\n      }\n    },\n    {\n      \"column\": \"Case Closed\",\n      \"properties\": {\n        \"dtype\": \"category\",\n        \"num_unique_values\": 2,\n        \"samples\": [\n          \"Yes\",\n          \"No\"\n        ],\n        \"semantic_type\": \"\",\n        \"description\": \"\"\n      }\n    },\n    {\n      \"column\": \"Date Case Closed\",\n      \"properties\": {\n        \"dtype\": \"date\",\n        \"min\": \"2020-01-08 21:00:00\",\n        \"max\": \"2026-07-21 16:00:00\",\n        \"num_unique_values\": 16011,\n        \"samples\": [\n          \"21-01-2024 22:00\",\n          \"06-07-2023 02:00\"\n        ],\n        \"semantic_type\": \"\",\n        \"description\": \"\"\n      }\n    }\n  ]\n}"
            }
          },
          "metadata": {},
          "execution_count": 13
        }
      ]
    },
    {
      "cell_type": "code",
      "source": [],
      "metadata": {
        "id": "twGZ6phoOBck"
      },
      "execution_count": null,
      "outputs": []
    }
  ]
}